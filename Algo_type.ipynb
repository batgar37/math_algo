{
 "cells": [
  {
   "cell_type": "markdown",
   "id": "arctic-sight",
   "metadata": {},
   "source": [
    "# Target somme"
   ]
  },
  {
   "cell_type": "markdown",
   "id": "announced-ceramic",
   "metadata": {},
   "source": [
    "Écrivez une fonction qui prend dans un tableau non vide d'entiers distincts et un entier représentant une somme cible. Si deux nombres du tableau d'entrée correspondent à la somme cible, la fonction doit les renvoyer dans un tableau, dans n'importe quel ordre. Si deux nombres ne correspondent pas à la somme cible, la fonction doit renvoyer un tableau vide.\n",
    "\n",
    "Notez que la somme cible doit être obtenue en additionnant deux entiers différents dans le tableau; vous ne pouvez pas ajouter un seul entier à lui-même pour obtenir la somme cible.\n",
    "\n",
    "Input exemple :\n",
    "\n",
    "array = [3, 5, -4, 8, 11, 1, -1, 6] \n",
    "targetSum = 10\n",
    "\n",
    "Output\n",
    "\n",
    "[-1, 11] # les nombres peuvent être dans l'ordre inverse\n"
   ]
  },
  {
   "cell_type": "code",
   "execution_count": 3,
   "id": "affecting-rugby",
   "metadata": {
    "scrolled": true
   },
   "outputs": [
    {
     "data": {
      "text/plain": [
       "[1, -1]"
      ]
     },
     "execution_count": 3,
     "metadata": {},
     "output_type": "execute_result"
    }
   ],
   "source": [
    "def targetSomme(liste, target):\n",
    "    copy = liste;\n",
    "    for i in range(len(copy)):\n",
    "        dif = target - copy[i]\n",
    "        liste.pop(0)\n",
    "        if (dif in liste):\n",
    "            return [copy[i], dif]\n",
    "    return []\n",
    "\n",
    "targetSomme([3, 5, -4, 8, 11, 1, -1, 6], 10)"
   ]
  },
  {
   "cell_type": "code",
   "execution_count": null,
   "id": "adult-prime",
   "metadata": {},
   "outputs": [],
   "source": []
  }
 ],
 "metadata": {
  "kernelspec": {
   "display_name": "Python 3",
   "language": "python",
   "name": "python3"
  },
  "language_info": {
   "codemirror_mode": {
    "name": "ipython",
    "version": 3
   },
   "file_extension": ".py",
   "mimetype": "text/x-python",
   "name": "python",
   "nbconvert_exporter": "python",
   "pygments_lexer": "ipython3",
   "version": "3.6.9"
  }
 },
 "nbformat": 4,
 "nbformat_minor": 5
}
