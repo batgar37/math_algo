{
 "cells": [
  {
   "cell_type": "markdown",
   "id": "arctic-sight",
   "metadata": {},
   "source": [
    "# Target somme"
   ]
  },
  {
   "cell_type": "markdown",
   "id": "announced-ceramic",
   "metadata": {},
   "source": [
    "Écrivez une fonction qui prend dans un tableau non vide d'entiers distincts et un entier représentant une somme cible. Si deux nombres du tableau d'entrée correspondent à la somme cible, la fonction doit les renvoyer dans un tableau, dans n'importe quel ordre. Si deux nombres ne correspondent pas à la somme cible, la fonction doit renvoyer un tableau vide.\n",
    "\n",
    "Notez que la somme cible doit être obtenue en additionnant deux entiers différents dans le tableau; vous ne pouvez pas ajouter un seul entier à lui-même pour obtenir la somme cible.\n",
    "\n",
    "Input exemple :\n",
    "\n",
    "array = [3, 5, -4, 8, 11, 1, -1, 6] \n",
    "targetSum = 10\n",
    "\n",
    "Output\n",
    "\n",
    "[-1, 11] # les nombres peuvent être dans l'ordre inverse\n"
   ]
  },
  {
   "cell_type": "code",
   "execution_count": 17,
   "id": "affecting-rugby",
   "metadata": {
    "scrolled": true
   },
   "outputs": [
    {
     "name": "stdout",
     "output_type": "stream",
     "text": [
      "CPU times: user 51 µs, sys: 8 µs, total: 59 µs\n",
      "Wall time: 64.4 µs\n"
     ]
    },
    {
     "data": {
      "text/plain": [
       "[11, -1]"
      ]
     },
     "execution_count": 17,
     "metadata": {},
     "output_type": "execute_result"
    }
   ],
   "source": [
    "%%time\n",
    "def targetSomme(liste, target):\n",
    "    for i in range(len(liste)):\n",
    "        save = liste[0]\n",
    "        dif = target - liste[0]\n",
    "        liste.pop(0)\n",
    "        if (dif in liste):\n",
    "            return [save, dif]\n",
    "    return []\n",
    "\n",
    "targetSomme([3, 5, -4, 8, 11, 1, -1, 6], 10)"
   ]
  },
  {
   "cell_type": "markdown",
   "id": "engaging-fruit",
   "metadata": {},
   "source": [
    "#### Solution 2 (avec un dico)"
   ]
  },
  {
   "cell_type": "code",
   "execution_count": 24,
   "id": "earned-livestock",
   "metadata": {
    "scrolled": true
   },
   "outputs": [
    {
     "name": "stdout",
     "output_type": "stream",
     "text": [
      "CPU times: user 56 µs, sys: 0 ns, total: 56 µs\n",
      "Wall time: 61.3 µs\n"
     ]
    },
    {
     "data": {
      "text/plain": [
       "[-1, 11]"
      ]
     },
     "execution_count": 24,
     "metadata": {},
     "output_type": "execute_result"
    }
   ],
   "source": [
    "%%time\n",
    "def targetSomme2(liste, target):\n",
    "    dico = {}\n",
    "    for item in liste:\n",
    "        dico[target - item] = item\n",
    "        if (item in dico and dico[item] != item):\n",
    "            return [item, dico[item]]\n",
    "    return []\n",
    "targetSomme2([3, 5, -4, 8, 11, 1, -1, 6], 10)"
   ]
  },
  {
   "cell_type": "markdown",
   "id": "leading-snake",
   "metadata": {},
   "source": [
    "#### Solution 3 (version benjamin)"
   ]
  },
  {
   "cell_type": "code",
   "execution_count": 25,
   "id": "japanese-sussex",
   "metadata": {},
   "outputs": [
    {
     "name": "stdout",
     "output_type": "stream",
     "text": [
      "CPU times: user 56 µs, sys: 0 ns, total: 56 µs\n",
      "Wall time: 60.3 µs\n"
     ]
    },
    {
     "data": {
      "text/plain": [
       "[11, -1]"
      ]
     },
     "execution_count": 25,
     "metadata": {},
     "output_type": "execute_result"
    }
   ],
   "source": [
    "%%time\n",
    "def target_somme(array, targetSum):\n",
    "    #sol2 -> O(n) time | O(1) space \n",
    "    nums={}\n",
    "    for num in array:\n",
    "        tmp = targetSum - num \n",
    "        if tmp in nums:\n",
    "            return [tmp,num]\n",
    "        else: \n",
    "            nums[num] = True\n",
    "    return []\n",
    "target_somme([3, 5, -4, 8, 11, 1, -1, 6], 10)"
   ]
  },
  {
   "cell_type": "markdown",
   "id": "comic-separation",
   "metadata": {},
   "source": [
    "# La distance de Levenshtein"
   ]
  },
  {
   "cell_type": "markdown",
   "id": "blessed-reviewer",
   "metadata": {},
   "source": [
    "Ecrivez une fonction qui prend en deux chaînes et retourne le nombre minimum d'opérations d'édition qui doivent être effectuées sur la première chaîne pour obtenir la deuxième chaîne.\n",
    "\n",
    "Il existe trois opérations d'édition: insertion d'un caractère, suppression d'un caractère et substitution d'un caractère par un autre.\n",
    "\n",
    "Elle est tres utilisé en bio informatique notamment pour l'analyse ADN.\n",
    "\n",
    "Input exemple :\n",
    "\n",
    "str1 = \"abc\" \n",
    "str2 = \"yabd\"\n",
    "\n",
    "Output\n",
    "\n",
    "2 #insert \"y\"; substitute \"c\" for \"d\"\n"
   ]
  },
  {
   "cell_type": "code",
   "execution_count": 145,
   "id": "opponent-burst",
   "metadata": {
    "scrolled": false
   },
   "outputs": [
    {
     "name": "stdout",
     "output_type": "stream",
     "text": [
      "[0, 1, 2, 3, 4, 5, 6]\n",
      "[1, 1, 2, 3, 4, 4, 5]\n",
      "[2, 2, 2, 2, 3, 4, 5]\n",
      "[3, 2, 3, 3, 3, 4, 5]\n",
      "[4, 3, 2, 3, 4, 4, 5]\n",
      "[5, 4, 3, 3, 3, 4, 5]\n"
     ]
    },
    {
     "data": {
      "text/plain": [
       "5"
      ]
     },
     "execution_count": 145,
     "metadata": {},
     "output_type": "execute_result"
    }
   ],
   "source": [
    "def levenshtein(str1, str2):\n",
    "    table = [[]]\n",
    "    for n in range(len(str1)+1):\n",
    "        table[0].append(n)\n",
    "    for m in range(1,len(str2)+1):\n",
    "        table.append([m])\n",
    "        for x in range(len(str1)):\n",
    "            table[m].append(0)\n",
    "    \n",
    "    coupSub = 0\n",
    "    for col in range(1,len(str1)+1):\n",
    "        for row in range(1,len(str2)+1):\n",
    "            if str1[col-1] == str2[row-1]:\n",
    "                coupSub = 0\n",
    "            else:\n",
    "                coupSub = 1\n",
    "            table[row][col] = min(\n",
    "                table[row-1][col]+1, \n",
    "                table[row][col-1]+1, \n",
    "                table[row-1][col-1]+coupSub\n",
    "            )\n",
    "\n",
    "    for row in table:\n",
    "        print(row)\n",
    "\n",
    "    return table[-1][-1]\n"
   ]
  },
  {
   "cell_type": "code",
   "execution_count": 146,
   "id": "perfect-richards",
   "metadata": {},
   "outputs": [
    {
     "name": "stdout",
     "output_type": "stream",
     "text": [
      "[0, 1, 2, 3, 4, 5, 6]\n",
      "[1, 1, 2, 3, 4, 4, 5]\n",
      "[2, 2, 2, 2, 3, 4, 5]\n",
      "[3, 2, 3, 3, 3, 4, 5]\n",
      "[4, 3, 2, 3, 4, 4, 5]\n",
      "[5, 4, 3, 3, 3, 4, 5]\n"
     ]
    },
    {
     "data": {
      "text/plain": [
       "5"
      ]
     },
     "execution_count": 146,
     "metadata": {},
     "output_type": "execute_result"
    }
   ],
   "source": [
    "levenshtein(\"chiens\", \"niche\")"
   ]
  },
  {
   "cell_type": "code",
   "execution_count": 147,
   "id": "colonial-project",
   "metadata": {},
   "outputs": [
    {
     "name": "stdout",
     "output_type": "stream",
     "text": [
      "[0, 1, 2, 3, 4, 5]\n",
      "[1, 0, 1, 2, 3, 4]\n",
      "[2, 1, 1, 2, 3, 4]\n",
      "[3, 2, 2, 1, 2, 3]\n",
      "[4, 3, 3, 2, 1, 2]\n",
      "[5, 4, 4, 3, 2, 1]\n",
      "[6, 5, 5, 4, 3, 2]\n"
     ]
    },
    {
     "data": {
      "text/plain": [
       "2"
      ]
     },
     "execution_count": 147,
     "metadata": {},
     "output_type": "execute_result"
    }
   ],
   "source": [
    "levenshtein(\"gumbo\", \"gambol\")"
   ]
  },
  {
   "cell_type": "code",
   "execution_count": 148,
   "id": "aware-comparison",
   "metadata": {},
   "outputs": [
    {
     "name": "stdout",
     "output_type": "stream",
     "text": [
      "[0, 1, 2, 3, 4, 5]\n",
      "[1, 0, 1, 2, 3, 4]\n",
      "[2, 1, 0, 1, 2, 3]\n",
      "[3, 2, 1, 1, 2, 3]\n",
      "[4, 3, 2, 2, 2, 3]\n",
      "[5, 4, 3, 3, 2, 3]\n",
      "[6, 5, 4, 4, 3, 2]\n"
     ]
    },
    {
     "data": {
      "text/plain": [
       "2"
      ]
     },
     "execution_count": 148,
     "metadata": {},
     "output_type": "execute_result"
    }
   ],
   "source": [
    "levenshtein(\"macon\", \"maison\")"
   ]
  },
  {
   "cell_type": "code",
   "execution_count": 149,
   "id": "consecutive-hawaiian",
   "metadata": {},
   "outputs": [
    {
     "name": "stdout",
     "output_type": "stream",
     "text": [
      "[0, 1, 2, 3]\n",
      "[1, 1, 2, 3]\n",
      "[2, 1, 2, 3]\n",
      "[3, 2, 1, 2]\n",
      "[4, 3, 2, 2]\n"
     ]
    },
    {
     "data": {
      "text/plain": [
       "2"
      ]
     },
     "execution_count": 149,
     "metadata": {},
     "output_type": "execute_result"
    }
   ],
   "source": [
    "levenshtein(\"abc\", \"yabd\")"
   ]
  },
  {
   "cell_type": "code",
   "execution_count": null,
   "id": "czech-quantity",
   "metadata": {},
   "outputs": [],
   "source": []
  }
 ],
 "metadata": {
  "kernelspec": {
   "display_name": "Python 3",
   "language": "python",
   "name": "python3"
  },
  "language_info": {
   "codemirror_mode": {
    "name": "ipython",
    "version": 3
   },
   "file_extension": ".py",
   "mimetype": "text/x-python",
   "name": "python",
   "nbconvert_exporter": "python",
   "pygments_lexer": "ipython3",
   "version": "3.6.9"
  }
 },
 "nbformat": 4,
 "nbformat_minor": 5
}
