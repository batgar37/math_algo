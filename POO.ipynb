{
 "cells": [
  {
   "cell_type": "markdown",
   "id": "surface-lesson",
   "metadata": {},
   "source": [
    "# Exercice POO"
   ]
  },
  {
   "cell_type": "markdown",
   "id": "twenty-poster",
   "metadata": {},
   "source": [
    "### Le compte bancaire"
   ]
  },
  {
   "cell_type": "code",
   "execution_count": 34,
   "id": "pressed-friendship",
   "metadata": {},
   "outputs": [],
   "source": [
    "class CompteBancaire:\n",
    "    def __init__(self, name=\"Dupont\", solde=1000):\n",
    "        self.name = name\n",
    "        self.solde = solde\n",
    "    \n",
    "    def depot(self, somme):\n",
    "        self.solde += somme\n",
    "    \n",
    "    def retrait(self, somme):\n",
    "        self.solde -= somme\n",
    "    \n",
    "    def affiche(self):\n",
    "        print(\"Le solde du compte bancaire de \"+self.name+\" est de \"+str(self.solde)+\" euros.\")\n",
    "        "
   ]
  },
  {
   "cell_type": "code",
   "execution_count": 35,
   "id": "white-warrior",
   "metadata": {},
   "outputs": [
    {
     "name": "stdout",
     "output_type": "stream",
     "text": [
      "Le solde du compte bancaire de Duchmol est de 950 euros.\n"
     ]
    }
   ],
   "source": [
    "compte1 = CompteBancaire('Duchmol', 800)\n",
    "compte1.depot(350)\n",
    "compte1.retrait(200)\n",
    "compte1.affiche()"
   ]
  },
  {
   "cell_type": "code",
   "execution_count": 36,
   "id": "thrown-integral",
   "metadata": {},
   "outputs": [
    {
     "name": "stdout",
     "output_type": "stream",
     "text": [
      "Le solde du compte bancaire de Dupont est de 1025 euros.\n"
     ]
    }
   ],
   "source": [
    "compte2 = CompteBancaire()\n",
    "compte2.depot(25)\n",
    "compte2.affiche()"
   ]
  },
  {
   "cell_type": "markdown",
   "id": "hundred-catalog",
   "metadata": {},
   "source": [
    "### La surcharge d'opérateur"
   ]
  },
  {
   "cell_type": "code",
   "execution_count": 47,
   "id": "martial-violation",
   "metadata": {},
   "outputs": [],
   "source": [
    "class Point:\n",
    "    def __init__(self, x, y, z = None):\n",
    "        self.x = x\n",
    "        self.y = y\n",
    "        self.z = z\n",
    "    \n",
    "    def __str__(self):\n",
    "        if( self.z != None):\n",
    "            return \"P(\"+ str(self.x)+ ', ' + str(self.y) + ', ' + str(self.z) +\")\"\n",
    "        return \"P(\"+ str(self.x)+ ', ' + str(self.y) +\")\""
   ]
  },
  {
   "cell_type": "code",
   "execution_count": 49,
   "id": "usual-cemetery",
   "metadata": {},
   "outputs": [
    {
     "name": "stdout",
     "output_type": "stream",
     "text": [
      "P(2, 3)\n"
     ]
    }
   ],
   "source": [
    "P1=Point(2,3)\n",
    "print(P1)"
   ]
  },
  {
   "cell_type": "code",
   "execution_count": 50,
   "id": "subsequent-brown",
   "metadata": {},
   "outputs": [
    {
     "name": "stdout",
     "output_type": "stream",
     "text": [
      "P(1, -5, 6)\n"
     ]
    }
   ],
   "source": [
    "P2=Point(1,-5,6)\n",
    "print(P2)"
   ]
  },
  {
   "cell_type": "markdown",
   "id": "numeric-begin",
   "metadata": {},
   "source": [
    "### L'héritage simple"
   ]
  },
  {
   "cell_type": "code",
   "execution_count": 58,
   "id": "floppy-responsibility",
   "metadata": {},
   "outputs": [],
   "source": [
    "class DateNaissance:\n",
    "    def __init__(self, jour, mois, annee):\n",
    "        self.jour = jour\n",
    "        self.mois = mois\n",
    "        self.annee = annee\n",
    "    \n",
    "    def __str__(self):\n",
    "        if(self.jour > 9 and self.mois > 9):\n",
    "            return \"Date de naissance : \"+ str(self.jour) + \" / \" + str(self.mois) + \" / \"+ str(self.annee)\n",
    "        elif(self.jour > 9):\n",
    "            return \"Date de naissance : \"+ str(self.jour) + \" / 0\" + str(self.mois) + \" / \"+ str(self.annee)\n",
    "        elif(self.mois > 9):\n",
    "            return \"Date de naissance : 0\"+ str(self.jour) + \" / \" + str(self.mois) + \" / \"+ str(self.annee)\n",
    "        return \"Date de naissance : 0\"+ str(self.jour) + \" / 0\" + str(self.mois) + \" / \"+ str(self.annee)\n",
    "        "
   ]
  },
  {
   "cell_type": "code",
   "execution_count": 60,
   "id": "australian-throat",
   "metadata": {},
   "outputs": [
    {
     "name": "stdout",
     "output_type": "stream",
     "text": [
      "Date de naissance : 09 / 06 / 1999\n"
     ]
    }
   ],
   "source": [
    "dateTest = DateNaissance(9,6,1999)\n",
    "print(dateTest)"
   ]
  },
  {
   "cell_type": "code",
   "execution_count": 70,
   "id": "funny-dietary",
   "metadata": {},
   "outputs": [],
   "source": [
    "class Personne:\n",
    "    def __init__(self, nom, prenom, date):\n",
    "        self.nom = nom\n",
    "        self.prenom = prenom\n",
    "        self.date = date\n",
    "        \n",
    "    def __str__(self):\n",
    "        print(\"Nom : \", self.nom)\n",
    "        print(\"Prenom : \", self.prenom)\n",
    "        print(self.date)\n",
    "        return \"\"\n",
    "    \n",
    "    def afficher(personne):\n",
    "        print(personne)"
   ]
  },
  {
   "cell_type": "code",
   "execution_count": 71,
   "id": "extensive-layer",
   "metadata": {},
   "outputs": [
    {
     "name": "stdout",
     "output_type": "stream",
     "text": [
      "Nom :  Ilyass\n",
      "Prenom :  Math\n",
      "Date de naissance : 01 / 07 / 1982\n",
      "\n"
     ]
    }
   ],
   "source": [
    "P=Personne('Ilyass','Math',DateNaissance(1,7,1982))\n",
    "P.afficher()"
   ]
  },
  {
   "cell_type": "code",
   "execution_count": null,
   "id": "matched-shooting",
   "metadata": {},
   "outputs": [],
   "source": [
    "class Employer:\n",
    "    def __init__(self, nom, prenom, date, ):\n",
    "        self.nom = nom\n",
    "        self.prenom = prenom\n",
    "        self.date = date\n",
    "        \n",
    "    def __str__(self):\n",
    "        print(\"Nom : \", self.nom)\n",
    "        print(\"Prenom : \", self.prenom)\n",
    "        print(self.date)\n",
    "        return \"\"\n",
    "    \n",
    "    def afficher(personne):\n",
    "        print(personne)"
   ]
  },
  {
   "cell_type": "markdown",
   "id": "metallic-difference",
   "metadata": {},
   "source": [
    "### Le polymorphisme"
   ]
  },
  {
   "cell_type": "code",
   "execution_count": null,
   "id": "colored-virus",
   "metadata": {},
   "outputs": [],
   "source": []
  }
 ],
 "metadata": {
  "kernelspec": {
   "display_name": "Python 3",
   "language": "python",
   "name": "python3"
  },
  "language_info": {
   "codemirror_mode": {
    "name": "ipython",
    "version": 3
   },
   "file_extension": ".py",
   "mimetype": "text/x-python",
   "name": "python",
   "nbconvert_exporter": "python",
   "pygments_lexer": "ipython3",
   "version": "3.6.9"
  }
 },
 "nbformat": 4,
 "nbformat_minor": 5
}
