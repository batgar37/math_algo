{
 "cells": [
  {
   "cell_type": "markdown",
   "id": "pleasant-salem",
   "metadata": {},
   "source": [
    "# COVID-19 World Vaccination Progress"
   ]
  },
  {
   "cell_type": "markdown",
   "id": "collectible-fitness",
   "metadata": {},
   "source": [
    "# Chocolate Bar Ratings"
   ]
  },
  {
   "cell_type": "markdown",
   "id": "weighted-spouse",
   "metadata": {},
   "source": [
    "# Top 50 Spotify Songs - 2019"
   ]
  },
  {
   "cell_type": "code",
   "execution_count": null,
   "id": "medium-antique",
   "metadata": {},
   "outputs": [],
   "source": []
  }
 ],
 "metadata": {
  "kernelspec": {
   "display_name": "Python 3",
   "language": "python",
   "name": "python3"
  },
  "language_info": {
   "codemirror_mode": {
    "name": "ipython",
    "version": 3
   },
   "file_extension": ".py",
   "mimetype": "text/x-python",
   "name": "python",
   "nbconvert_exporter": "python",
   "pygments_lexer": "ipython3",
   "version": "3.6.9"
  }
 },
 "nbformat": 4,
 "nbformat_minor": 5
}
