{
 "cells": [
  {
   "cell_type": "markdown",
   "id": "leading-morning",
   "metadata": {},
   "source": [
    "# TV shows on Netflix, Prime Video, Hulu and Disney+\n",
    "###  A quel site de streaming propose le meilleur contenue pour une personne adulte ?"
   ]
  },
  {
   "cell_type": "code",
   "execution_count": 1,
   "id": "acting-seventh",
   "metadata": {},
   "outputs": [],
   "source": [
    "import numpy as np\n",
    "import pandas as pd\n",
    "import seaborn as sns\n",
    "import matplotlib.pyplot as plt"
   ]
  },
  {
   "cell_type": "code",
   "execution_count": 56,
   "id": "specialized-skill",
   "metadata": {},
   "outputs": [
    {
     "data": {
      "text/html": [
       "<div>\n",
       "<style scoped>\n",
       "    .dataframe tbody tr th:only-of-type {\n",
       "        vertical-align: middle;\n",
       "    }\n",
       "\n",
       "    .dataframe tbody tr th {\n",
       "        vertical-align: top;\n",
       "    }\n",
       "\n",
       "    .dataframe thead th {\n",
       "        text-align: right;\n",
       "    }\n",
       "</style>\n",
       "<table border=\"1\" class=\"dataframe\">\n",
       "  <thead>\n",
       "    <tr style=\"text-align: right;\">\n",
       "      <th></th>\n",
       "      <th>Unnamed: 0</th>\n",
       "      <th>Title</th>\n",
       "      <th>Year</th>\n",
       "      <th>Age</th>\n",
       "      <th>IMDb</th>\n",
       "      <th>Rotten Tomatoes</th>\n",
       "      <th>Netflix</th>\n",
       "      <th>Hulu</th>\n",
       "      <th>Prime Video</th>\n",
       "      <th>Disney+</th>\n",
       "      <th>type</th>\n",
       "    </tr>\n",
       "  </thead>\n",
       "  <tbody>\n",
       "    <tr>\n",
       "      <th>0</th>\n",
       "      <td>0</td>\n",
       "      <td>Breaking Bad</td>\n",
       "      <td>2008</td>\n",
       "      <td>18+</td>\n",
       "      <td>9.5</td>\n",
       "      <td>96%</td>\n",
       "      <td>1</td>\n",
       "      <td>0</td>\n",
       "      <td>0</td>\n",
       "      <td>0</td>\n",
       "      <td>1</td>\n",
       "    </tr>\n",
       "    <tr>\n",
       "      <th>1</th>\n",
       "      <td>1</td>\n",
       "      <td>Stranger Things</td>\n",
       "      <td>2016</td>\n",
       "      <td>16+</td>\n",
       "      <td>8.8</td>\n",
       "      <td>93%</td>\n",
       "      <td>1</td>\n",
       "      <td>0</td>\n",
       "      <td>0</td>\n",
       "      <td>0</td>\n",
       "      <td>1</td>\n",
       "    </tr>\n",
       "    <tr>\n",
       "      <th>2</th>\n",
       "      <td>2</td>\n",
       "      <td>Money Heist</td>\n",
       "      <td>2017</td>\n",
       "      <td>18+</td>\n",
       "      <td>8.4</td>\n",
       "      <td>91%</td>\n",
       "      <td>1</td>\n",
       "      <td>0</td>\n",
       "      <td>0</td>\n",
       "      <td>0</td>\n",
       "      <td>1</td>\n",
       "    </tr>\n",
       "    <tr>\n",
       "      <th>3</th>\n",
       "      <td>3</td>\n",
       "      <td>Sherlock</td>\n",
       "      <td>2010</td>\n",
       "      <td>16+</td>\n",
       "      <td>9.1</td>\n",
       "      <td>78%</td>\n",
       "      <td>1</td>\n",
       "      <td>0</td>\n",
       "      <td>0</td>\n",
       "      <td>0</td>\n",
       "      <td>1</td>\n",
       "    </tr>\n",
       "    <tr>\n",
       "      <th>4</th>\n",
       "      <td>4</td>\n",
       "      <td>Better Call Saul</td>\n",
       "      <td>2015</td>\n",
       "      <td>18+</td>\n",
       "      <td>8.7</td>\n",
       "      <td>97%</td>\n",
       "      <td>1</td>\n",
       "      <td>0</td>\n",
       "      <td>0</td>\n",
       "      <td>0</td>\n",
       "      <td>1</td>\n",
       "    </tr>\n",
       "  </tbody>\n",
       "</table>\n",
       "</div>"
      ],
      "text/plain": [
       "   Unnamed: 0             Title  Year  Age  IMDb Rotten Tomatoes  Netflix  \\\n",
       "0           0      Breaking Bad  2008  18+   9.5             96%        1   \n",
       "1           1   Stranger Things  2016  16+   8.8             93%        1   \n",
       "2           2       Money Heist  2017  18+   8.4             91%        1   \n",
       "3           3          Sherlock  2010  16+   9.1             78%        1   \n",
       "4           4  Better Call Saul  2015  18+   8.7             97%        1   \n",
       "\n",
       "   Hulu  Prime Video  Disney+  type  \n",
       "0     0            0        0     1  \n",
       "1     0            0        0     1  \n",
       "2     0            0        0     1  \n",
       "3     0            0        0     1  \n",
       "4     0            0        0     1  "
      ]
     },
     "execution_count": 56,
     "metadata": {},
     "output_type": "execute_result"
    }
   ],
   "source": [
    "df = pd.read_csv('./tv_shows.csv'); df.head()"
   ]
  },
  {
   "cell_type": "code",
   "execution_count": 4,
   "id": "juvenile-actress",
   "metadata": {},
   "outputs": [
    {
     "name": "stdout",
     "output_type": "stream",
     "text": [
      "<class 'pandas.core.frame.DataFrame'>\n",
      "RangeIndex: 5611 entries, 0 to 5610\n",
      "Data columns (total 11 columns):\n",
      " #   Column           Non-Null Count  Dtype  \n",
      "---  ------           --------------  -----  \n",
      " 0   Unnamed: 0       5611 non-null   int64  \n",
      " 1   Title            5611 non-null   object \n",
      " 2   Year             5611 non-null   int64  \n",
      " 3   Age              3165 non-null   object \n",
      " 4   IMDb             4450 non-null   float64\n",
      " 5   Rotten Tomatoes  1011 non-null   object \n",
      " 6   Netflix          5611 non-null   int64  \n",
      " 7   Hulu             5611 non-null   int64  \n",
      " 8   Prime Video      5611 non-null   int64  \n",
      " 9   Disney+          5611 non-null   int64  \n",
      " 10  type             5611 non-null   int64  \n",
      "dtypes: float64(1), int64(7), object(3)\n",
      "memory usage: 482.3+ KB\n"
     ]
    }
   ],
   "source": [
    "df.info()"
   ]
  },
  {
   "cell_type": "markdown",
   "id": "turkish-thermal",
   "metadata": {},
   "source": [
    "##### On voit que la plupart des données sont des int, mais certaine sont des objects qui pourrais nous interresser sous la forme d'un int ou d'un float comme les colonnes Age et Rotten Tomatoes"
   ]
  },
  {
   "cell_type": "code",
   "execution_count": 57,
   "id": "cardiovascular-packet",
   "metadata": {
    "scrolled": false
   },
   "outputs": [
    {
     "data": {
      "text/plain": [
       "0       18\n",
       "1       16\n",
       "2       18\n",
       "3       16\n",
       "4       18\n",
       "        ..\n",
       "5606     0\n",
       "5607     0\n",
       "5608     0\n",
       "5609     0\n",
       "5610     0\n",
       "Name: Age, Length: 5611, dtype: int64"
      ]
     },
     "execution_count": 57,
     "metadata": {},
     "output_type": "execute_result"
    }
   ],
   "source": [
    "df['Age'] = df['Age'].replace(np.nan, \"0+\")\n",
    "df['Age'] = df['Age'].replace(\"all\", \"0+\")\n",
    "df['Age'] = df['Age'].map(lambda x: x[0:-1])\n",
    "df['Age'] = pd.to_numeric(df['Age'])\n",
    "df['Age']"
   ]
  },
  {
   "cell_type": "code",
   "execution_count": 58,
   "id": "stylish-closer",
   "metadata": {},
   "outputs": [
    {
     "data": {
      "text/plain": [
       "0       96\n",
       "1       93\n",
       "2       91\n",
       "3       78\n",
       "4       97\n",
       "        ..\n",
       "5606     0\n",
       "5607     0\n",
       "5608     0\n",
       "5609     0\n",
       "5610     0\n",
       "Name: Rotten Tomatoes, Length: 5611, dtype: int64"
      ]
     },
     "execution_count": 58,
     "metadata": {},
     "output_type": "execute_result"
    }
   ],
   "source": [
    "df['Rotten Tomatoes'] = df['Rotten Tomatoes'].replace(np.nan, \"0%\")\n",
    "df['Rotten Tomatoes'] = df['Rotten Tomatoes'].map(lambda x: x[0:-1])\n",
    "df['Rotten Tomatoes'] = pd.to_numeric(df['Rotten Tomatoes'])\n",
    "df['Rotten Tomatoes']"
   ]
  },
  {
   "cell_type": "markdown",
   "id": "quarterly-helicopter",
   "metadata": {},
   "source": [
    "##### On modifie les valeurs à Age et Rotten Tomatoes pour pouvoir les manipuler\n",
    "##### On assume que l'age est a 0 quand il n'est pas définit"
   ]
  },
  {
   "cell_type": "code",
   "execution_count": 63,
   "id": "sensitive-broad",
   "metadata": {
    "scrolled": false
   },
   "outputs": [
    {
     "data": {
      "text/html": [
       "<div>\n",
       "<style scoped>\n",
       "    .dataframe tbody tr th:only-of-type {\n",
       "        vertical-align: middle;\n",
       "    }\n",
       "\n",
       "    .dataframe tbody tr th {\n",
       "        vertical-align: top;\n",
       "    }\n",
       "\n",
       "    .dataframe thead th {\n",
       "        text-align: right;\n",
       "    }\n",
       "</style>\n",
       "<table border=\"1\" class=\"dataframe\">\n",
       "  <thead>\n",
       "    <tr style=\"text-align: right;\">\n",
       "      <th></th>\n",
       "      <th>Unnamed: 0</th>\n",
       "      <th>Year</th>\n",
       "      <th>Age</th>\n",
       "      <th>IMDb</th>\n",
       "      <th>Rotten Tomatoes</th>\n",
       "      <th>Netflix</th>\n",
       "      <th>Hulu</th>\n",
       "      <th>Prime Video</th>\n",
       "      <th>Disney+</th>\n",
       "      <th>type</th>\n",
       "    </tr>\n",
       "  </thead>\n",
       "  <tbody>\n",
       "    <tr>\n",
       "      <th>count</th>\n",
       "      <td>5611.000000</td>\n",
       "      <td>5611.000000</td>\n",
       "      <td>5611.000000</td>\n",
       "      <td>4450.000000</td>\n",
       "      <td>5611.00000</td>\n",
       "      <td>5611.000000</td>\n",
       "      <td>5611.000000</td>\n",
       "      <td>5611.000000</td>\n",
       "      <td>5611.000000</td>\n",
       "      <td>5611.0</td>\n",
       "    </tr>\n",
       "    <tr>\n",
       "      <th>mean</th>\n",
       "      <td>2805.000000</td>\n",
       "      <td>2011.021030</td>\n",
       "      <td>6.376047</td>\n",
       "      <td>7.113258</td>\n",
       "      <td>13.96489</td>\n",
       "      <td>0.344145</td>\n",
       "      <td>0.312600</td>\n",
       "      <td>0.382107</td>\n",
       "      <td>0.032080</td>\n",
       "      <td>1.0</td>\n",
       "    </tr>\n",
       "    <tr>\n",
       "      <th>std</th>\n",
       "      <td>1619.900511</td>\n",
       "      <td>11.005116</td>\n",
       "      <td>7.525673</td>\n",
       "      <td>1.132060</td>\n",
       "      <td>31.04382</td>\n",
       "      <td>0.475131</td>\n",
       "      <td>0.463594</td>\n",
       "      <td>0.485946</td>\n",
       "      <td>0.176228</td>\n",
       "      <td>0.0</td>\n",
       "    </tr>\n",
       "    <tr>\n",
       "      <th>min</th>\n",
       "      <td>0.000000</td>\n",
       "      <td>1901.000000</td>\n",
       "      <td>0.000000</td>\n",
       "      <td>1.000000</td>\n",
       "      <td>0.00000</td>\n",
       "      <td>0.000000</td>\n",
       "      <td>0.000000</td>\n",
       "      <td>0.000000</td>\n",
       "      <td>0.000000</td>\n",
       "      <td>1.0</td>\n",
       "    </tr>\n",
       "    <tr>\n",
       "      <th>25%</th>\n",
       "      <td>1402.500000</td>\n",
       "      <td>2010.000000</td>\n",
       "      <td>0.000000</td>\n",
       "      <td>6.600000</td>\n",
       "      <td>0.00000</td>\n",
       "      <td>0.000000</td>\n",
       "      <td>0.000000</td>\n",
       "      <td>0.000000</td>\n",
       "      <td>0.000000</td>\n",
       "      <td>1.0</td>\n",
       "    </tr>\n",
       "    <tr>\n",
       "      <th>50%</th>\n",
       "      <td>2805.000000</td>\n",
       "      <td>2015.000000</td>\n",
       "      <td>0.000000</td>\n",
       "      <td>7.300000</td>\n",
       "      <td>0.00000</td>\n",
       "      <td>0.000000</td>\n",
       "      <td>0.000000</td>\n",
       "      <td>0.000000</td>\n",
       "      <td>0.000000</td>\n",
       "      <td>1.0</td>\n",
       "    </tr>\n",
       "    <tr>\n",
       "      <th>75%</th>\n",
       "      <td>4207.500000</td>\n",
       "      <td>2017.000000</td>\n",
       "      <td>16.000000</td>\n",
       "      <td>7.900000</td>\n",
       "      <td>0.00000</td>\n",
       "      <td>1.000000</td>\n",
       "      <td>1.000000</td>\n",
       "      <td>1.000000</td>\n",
       "      <td>0.000000</td>\n",
       "      <td>1.0</td>\n",
       "    </tr>\n",
       "    <tr>\n",
       "      <th>max</th>\n",
       "      <td>5610.000000</td>\n",
       "      <td>2020.000000</td>\n",
       "      <td>18.000000</td>\n",
       "      <td>9.600000</td>\n",
       "      <td>100.00000</td>\n",
       "      <td>1.000000</td>\n",
       "      <td>1.000000</td>\n",
       "      <td>1.000000</td>\n",
       "      <td>1.000000</td>\n",
       "      <td>1.0</td>\n",
       "    </tr>\n",
       "  </tbody>\n",
       "</table>\n",
       "</div>"
      ],
      "text/plain": [
       "        Unnamed: 0         Year          Age         IMDb  Rotten Tomatoes  \\\n",
       "count  5611.000000  5611.000000  5611.000000  4450.000000       5611.00000   \n",
       "mean   2805.000000  2011.021030     6.376047     7.113258         13.96489   \n",
       "std    1619.900511    11.005116     7.525673     1.132060         31.04382   \n",
       "min       0.000000  1901.000000     0.000000     1.000000          0.00000   \n",
       "25%    1402.500000  2010.000000     0.000000     6.600000          0.00000   \n",
       "50%    2805.000000  2015.000000     0.000000     7.300000          0.00000   \n",
       "75%    4207.500000  2017.000000    16.000000     7.900000          0.00000   \n",
       "max    5610.000000  2020.000000    18.000000     9.600000        100.00000   \n",
       "\n",
       "           Netflix         Hulu  Prime Video      Disney+    type  \n",
       "count  5611.000000  5611.000000  5611.000000  5611.000000  5611.0  \n",
       "mean      0.344145     0.312600     0.382107     0.032080     1.0  \n",
       "std       0.475131     0.463594     0.485946     0.176228     0.0  \n",
       "min       0.000000     0.000000     0.000000     0.000000     1.0  \n",
       "25%       0.000000     0.000000     0.000000     0.000000     1.0  \n",
       "50%       0.000000     0.000000     0.000000     0.000000     1.0  \n",
       "75%       1.000000     1.000000     1.000000     0.000000     1.0  \n",
       "max       1.000000     1.000000     1.000000     1.000000     1.0  "
      ]
     },
     "execution_count": 63,
     "metadata": {},
     "output_type": "execute_result"
    }
   ],
   "source": [
    "df.describe()"
   ]
  },
  {
   "cell_type": "code",
   "execution_count": 92,
   "id": "outdoor-engineering",
   "metadata": {},
   "outputs": [],
   "source": [
    "df_net = df[df['Netflix'] == 1]\n",
    "df_net = df_net[df_net['IMDb'] > 0]\n",
    "df_net = df_net[df_net['Rotten Tomatoes'] > 0]"
   ]
  },
  {
   "cell_type": "code",
   "execution_count": 93,
   "id": "pressed-innocent",
   "metadata": {
    "scrolled": false
   },
   "outputs": [],
   "source": [
    "df_hulu = df[df['Hulu'] == 1]\n",
    "df_hulu = df_hulu[df_hulu['IMDb'] > 0]\n",
    "df_hulu = df_hulu[df_hulu['Rotten Tomatoes'] > 0]"
   ]
  },
  {
   "cell_type": "code",
   "execution_count": 94,
   "id": "honest-blowing",
   "metadata": {
    "scrolled": true
   },
   "outputs": [],
   "source": [
    "df_prime = df[df['Prime Video'] == 1]\n",
    "df_prime = df_prime[df_prime['IMDb'] > 0]\n",
    "df_prime = df_prime[df_prime['Rotten Tomatoes'] > 0]"
   ]
  },
  {
   "cell_type": "code",
   "execution_count": 95,
   "id": "stuffed-saint",
   "metadata": {},
   "outputs": [],
   "source": [
    "df_disney = df[df['Disney+'] == 1]\n",
    "df_disney = df_disney[df_disney['IMDb'] > 0]\n",
    "df_disney = df_disney[df_disney['Rotten Tomatoes'] > 0]"
   ]
  },
  {
   "cell_type": "markdown",
   "id": "equal-forge",
   "metadata": {},
   "source": [
    "On cherche a ce rapprocher du meilleur ratio de notes pour chaque site de streaming afin de déterminer le ou les site qui propose le contenu le plus qualitatif."
   ]
  },
  {
   "cell_type": "code",
   "execution_count": 97,
   "id": "ambient-quarterly",
   "metadata": {},
   "outputs": [
    {
     "data": {
      "image/png": "[encoded data removed]",
      "text/plain": [
       "<Figure size 864x720 with 4 Axes>"
      ]
     },
     "metadata": {
      "needs_background": "light"
     },
     "output_type": "display_data"
    },
    {
     "data": {
      "text/plain": [
       "<Figure size 1080x288 with 0 Axes>"
      ]
     },
     "metadata": {},
     "output_type": "display_data"
    }
   ],
   "source": [
    "fig, axs = plt.subplots(2, 2)\n",
    "fig.set_figheight(10)\n",
    "fig.set_figwidth(12)\n",
    "plt.figure(figsize=(15,4))\n",
    "axs[0, 0].plot(df_net.IMDb, df_net['Rotten Tomatoes'], 'ro')\n",
    "axs[0, 0].set_title(\"Netflix\")\n",
    "axs[1, 0].plot(df_prime.IMDb, df_prime['Rotten Tomatoes']**2, 'ro')\n",
    "axs[1, 0].set_title(\"Prime Video\")\n",
    "axs[1, 0].sharex(axs[0, 0])\n",
    "axs[0, 1].plot(df_hulu.IMDb + 1, df_hulu['Rotten Tomatoes'] + 1, 'ro')\n",
    "axs[0, 1].set_title(\"Hulu\")\n",
    "axs[1, 1].plot(df_disney.IMDb + 2, df_disney['Rotten Tomatoes'] + 2, 'ro')\n",
    "axs[1, 1].set_title(\"Disney+\")\n",
    "fig.tight_layout()"
   ]
  },
  {
   "cell_type": "markdown",
   "id": "appropriate-regard",
   "metadata": {},
   "source": [
    "Je pense que Netflix et a Hulu ont des meilleur notes que Prime et Disney+ car on peut voir que les notes données par les organisme IMDb et Rotten Tomatoes on une plus grande densité de point au niveau des meilleurs notes"
   ]
  },
  {
   "cell_type": "code",
   "execution_count": null,
   "id": "military-richardson",
   "metadata": {},
   "outputs": [],
   "source": []
  }
 ],
 "metadata": {
  "kernelspec": {
   "display_name": "Python 3",
   "language": "python",
   "name": "python3"
  },
  "language_info": {
   "codemirror_mode": {
    "name": "ipython",
    "version": 3
   },
   "file_extension": ".py",
   "mimetype": "text/x-python",
   "name": "python",
   "nbconvert_exporter": "python",
   "pygments_lexer": "ipython3",
   "version": "3.6.9"
  }
 },
 "nbformat": 4,
 "nbformat_minor": 5
}
