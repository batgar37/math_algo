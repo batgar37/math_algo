{
 "cells": [
  {
   "cell_type": "code",
   "execution_count": 1,
   "id": "undefined-burke",
   "metadata": {},
   "outputs": [],
   "source": [
    "import numpy as np"
   ]
  },
  {
   "cell_type": "code",
   "execution_count": 5,
   "id": "crazy-collapse",
   "metadata": {},
   "outputs": [
    {
     "name": "stdout",
     "output_type": "stream",
     "text": [
      "1.19.5\n"
     ]
    }
   ],
   "source": [
    "print(np.__version__)"
   ]
  },
  {
   "cell_type": "code",
   "execution_count": 12,
   "id": "lonely-contemporary",
   "metadata": {},
   "outputs": [
    {
     "data": {
      "text/plain": [
       "array([None, None, None, None, None, None, None, None], dtype=object)"
      ]
     },
     "execution_count": 12,
     "metadata": {},
     "output_type": "execute_result"
    }
   ],
   "source": [
    "vectorNull = np.tile(None, 8)\n",
    "vectorNull"
   ]
  },
  {
   "cell_type": "code",
   "execution_count": 13,
   "id": "grand-graph",
   "metadata": {},
   "outputs": [
    {
     "data": {
      "text/plain": [
       "array([None, None, None, 1, None, None, None, None], dtype=object)"
      ]
     },
     "execution_count": 13,
     "metadata": {},
     "output_type": "execute_result"
    }
   ],
   "source": [
    "vectorNull[3] = 1\n",
    "vectorNull"
   ]
  },
  {
   "cell_type": "code",
   "execution_count": 17,
   "id": "compact-journey",
   "metadata": {},
   "outputs": [
    {
     "data": {
      "text/plain": [
       "array([10, 11, 12, 13, 14, 15, 16, 17, 18, 19, 20, 21, 22, 23, 24, 25, 26,\n",
       "       27, 28, 29, 30, 31, 32, 33, 34, 35, 36, 37, 38, 39, 40, 41, 42, 43,\n",
       "       44, 45, 46, 47, 48, 49])"
      ]
     },
     "execution_count": 17,
     "metadata": {},
     "output_type": "execute_result"
    }
   ],
   "source": [
    "z = np.arange(10,50)\n",
    "z"
   ]
  },
  {
   "cell_type": "code",
   "execution_count": 19,
   "id": "floppy-nutrition",
   "metadata": {},
   "outputs": [
    {
     "data": {
      "text/plain": [
       "array([49, 48, 47, 46, 45, 44, 43, 42, 41, 40, 39, 38, 37, 36, 35, 34, 33,\n",
       "       32, 31, 30, 29, 28, 27, 26, 25, 24, 23, 22, 21, 20, 19, 18, 17, 16,\n",
       "       15, 14, 13, 12, 11, 10])"
      ]
     },
     "execution_count": 19,
     "metadata": {},
     "output_type": "execute_result"
    }
   ],
   "source": [
    "z[::-1]"
   ]
  },
  {
   "cell_type": "code",
   "execution_count": 113,
   "id": "specific-authentication",
   "metadata": {},
   "outputs": [
    {
     "data": {
      "text/plain": [
       "array([[0, 1, 2],\n",
       "       [3, 4, 5],\n",
       "       [6, 7, 8]])"
      ]
     },
     "execution_count": 113,
     "metadata": {},
     "output_type": "execute_result"
    }
   ],
   "source": [
    "m33 = np.arange(9).reshape(3,3)\n",
    "m33"
   ]
  },
  {
   "cell_type": "code",
   "execution_count": 24,
   "id": "opening-heavy",
   "metadata": {},
   "outputs": [
    {
     "data": {
      "text/plain": [
       "array([[1., 0., 0.],\n",
       "       [0., 1., 0.],\n",
       "       [0., 0., 1.]])"
      ]
     },
     "execution_count": 24,
     "metadata": {},
     "output_type": "execute_result"
    }
   ],
   "source": [
    "mIdentity = np.identity(3)\n",
    "mIdentity"
   ]
  },
  {
   "cell_type": "code",
   "execution_count": 27,
   "id": "current-scholarship",
   "metadata": {},
   "outputs": [
    {
     "data": {
      "text/plain": [
       "array([[[0.90654301, 0.70561737, 0.69212309],\n",
       "        [0.72995701, 0.52731645, 0.33065741],\n",
       "        [0.67279861, 0.28986303, 0.57802084]],\n",
       "\n",
       "       [[0.00201846, 0.90350062, 0.95485804],\n",
       "        [0.99283026, 0.08451748, 0.25504748],\n",
       "        [0.40260876, 0.80794464, 0.87444744]],\n",
       "\n",
       "       [[0.06050848, 0.24835671, 0.95918652],\n",
       "        [0.57850841, 0.40040551, 0.26422588],\n",
       "        [0.77531973, 0.49734735, 0.75418034]]])"
      ]
     },
     "execution_count": 27,
     "metadata": {},
     "output_type": "execute_result"
    }
   ],
   "source": [
    "mRandom = np.random.rand(3,3,3)\n",
    "mRandom"
   ]
  },
  {
   "cell_type": "code",
   "execution_count": 32,
   "id": "mathematical-motivation",
   "metadata": {},
   "outputs": [
    {
     "data": {
      "text/plain": [
       "(0.01083736415335923, 0.9858738046989332)"
      ]
     },
     "execution_count": 32,
     "metadata": {},
     "output_type": "execute_result"
    }
   ],
   "source": [
    "mRandom10 = np.random.rand(10,10)\n",
    "mRandom10.min(), mRandom10.max()"
   ]
  },
  {
   "cell_type": "code",
   "execution_count": 44,
   "id": "isolated-memorabilia",
   "metadata": {},
   "outputs": [
    {
     "data": {
      "text/plain": [
       "array([[0, 0, 0, 0, 0],\n",
       "       [1, 0, 0, 0, 0],\n",
       "       [0, 2, 0, 0, 0],\n",
       "       [0, 0, 3, 0, 0],\n",
       "       [0, 0, 0, 4, 0]])"
      ]
     },
     "execution_count": 44,
     "metadata": {},
     "output_type": "execute_result"
    }
   ],
   "source": [
    "test = np.diag([1,2,3,4],-1)\n",
    "test"
   ]
  },
  {
   "cell_type": "code",
   "execution_count": 47,
   "id": "first-roman",
   "metadata": {},
   "outputs": [
    {
     "data": {
      "text/plain": [
       "(2.1629765261726384, 0.43259530523452766)"
      ]
     },
     "execution_count": 47,
     "metadata": {},
     "output_type": "execute_result"
    }
   ],
   "source": [
    "ar = np.random.rand(5)\n",
    "sum(ar), ar.mean()"
   ]
  },
  {
   "cell_type": "code",
   "execution_count": 59,
   "id": "rapid-frontier",
   "metadata": {},
   "outputs": [
    {
     "data": {
      "text/plain": [
       "([0, 1, 2, 3, 4, 5, 6, 7, 8, 9, 10], 11)"
      ]
     },
     "execution_count": 59,
     "metadata": {},
     "output_type": "execute_result"
    }
   ],
   "source": [
    "l = [x for x in range(11)]\n",
    "l, len(l)"
   ]
  },
  {
   "cell_type": "code",
   "execution_count": 61,
   "id": "backed-advocate",
   "metadata": {},
   "outputs": [
    {
     "data": {
      "text/plain": [
       "array([0.13970766, 0.58710453, 0.03214917, 0.2439067 , 0.64140842,\n",
       "       0.14118874, 0.39869798, 0.85394234, 0.90200767, 0.61472853])"
      ]
     },
     "execution_count": 61,
     "metadata": {},
     "output_type": "execute_result"
    }
   ],
   "source": [
    "random10 = np.random.rand(10)\n",
    "random10"
   ]
  },
  {
   "cell_type": "code",
   "execution_count": 117,
   "id": "impressed-period",
   "metadata": {},
   "outputs": [
    {
     "data": {
      "text/plain": [
       "False"
      ]
     },
     "execution_count": 117,
     "metadata": {},
     "output_type": "execute_result"
    }
   ],
   "source": [
    "A = np.array([1,2,3,4,5])\n",
    "B = np.array([1,2,3,4,6])\n",
    "np.array_equal(A,B)"
   ]
  },
  {
   "cell_type": "code",
   "execution_count": 68,
   "id": "useful-reward",
   "metadata": {},
   "outputs": [
    {
     "data": {
      "text/plain": [
       "array([0., 1., 0., 5., 2., 1., 4., 5., 2.], dtype=float32)"
      ]
     },
     "execution_count": 68,
     "metadata": {},
     "output_type": "execute_result"
    }
   ],
   "source": [
    "a = np.array([0,1,0,5,2,1,4,5,2], dtype=(\"float32\"))\n",
    "a"
   ]
  },
  {
   "cell_type": "code",
   "execution_count": 71,
   "id": "crucial-venture",
   "metadata": {},
   "outputs": [
    {
     "data": {
      "text/plain": [
       "array([         0, 1065353216,          0, 1084227584, 1073741824,\n",
       "       1065353216, 1082130432, 1084227584, 1073741824], dtype=int32)"
      ]
     },
     "execution_count": 71,
     "metadata": {},
     "output_type": "execute_result"
    }
   ],
   "source": [
    "a.dtype = \"int32\"\n",
    "a"
   ]
  },
  {
   "cell_type": "code",
   "execution_count": 86,
   "id": "loose-shower",
   "metadata": {},
   "outputs": [
    {
     "data": {
      "text/plain": [
       "array([[ 0.85291032, -1.51628501,  0.51445384, -0.16245911, -1.17782854],\n",
       "       [-0.50091558,  0.85291032,  1.52982327,  0.17599737,  0.51445384],\n",
       "       [ 0.51445384, -1.51628501,  0.51445384, -1.17782854, -1.17782854],\n",
       "       [ 1.52982327,  0.85291032,  1.52982327, -1.51628501, -0.83937206],\n",
       "       [-0.83937206,  1.19136679, -0.50091558, -0.16245911,  0.51445384]])"
      ]
     },
     "execution_count": 86,
     "metadata": {},
     "output_type": "execute_result"
    }
   ],
   "source": [
    "mat55 = np.random.randint(10, size=(5, 5))\n",
    "moy = mat55.mean()\n",
    "eType = mat55.std()\n",
    "mat55 = (mat55-moy)/eType\n",
    "mat55"
   ]
  },
  {
   "cell_type": "code",
   "execution_count": 93,
   "id": "labeled-rehabilitation",
   "metadata": {},
   "outputs": [
    {
     "name": "stdout",
     "output_type": "stream",
     "text": [
      "[[1 0]\n",
      " [5 0]]\n",
      "[[1 5]\n",
      " [0 0]]\n"
     ]
    }
   ],
   "source": [
    "mat22 = np.random.randint(10, size=(2,2))\n",
    "print(mat22)\n",
    "print(mat22.transpose())"
   ]
  },
  {
   "cell_type": "code",
   "execution_count": 108,
   "id": "extreme-reconstruction",
   "metadata": {},
   "outputs": [
    {
     "name": "stdout",
     "output_type": "stream",
     "text": [
      "[[8 4 3 4 3]\n",
      " [4 7 2 5 5]\n",
      " [7 4 2 3 5]\n",
      " [3 7 0 0 8]\n",
      " [1 4 7 6 6]]\n",
      "((0, 2), array([[ 8,  4, 30,  4,  3],\n",
      "       [ 4,  7,  2,  5,  5],\n",
      "       [ 7,  4,  2,  3,  5],\n",
      "       [ 3,  7,  0,  0,  8],\n",
      "       [ 1,  4,  7,  6,  6]]))\n"
     ]
    }
   ],
   "source": [
    "def changeRandomElem(matrice):\n",
    "    form = matrice.shape\n",
    "    x = np.random.randint(form[0])\n",
    "    y = np.random.randint(form[1])\n",
    "    matrice[x][y] = np.random.randint(0,50)\n",
    "    \n",
    "    return ((x,y), matrice)\n",
    "mat = np.random.randint(10, size=(5, 5))\n",
    "print(mat)\n",
    "print(changeRandomElem(mat))"
   ]
  },
  {
   "cell_type": "code",
   "execution_count": 112,
   "id": "passing-wagon",
   "metadata": {},
   "outputs": [
    {
     "ename": "ValueError",
     "evalue": "matmul: Input operand 1 has a mismatch in its core dimension 0, with gufunc signature (n?,k),(k,m?)->(n?,m?) (size 5 is different from 3)",
     "output_type": "error",
     "traceback": [
      "\u001b[0;31m---------------------------------------------------------------------------\u001b[0m",
      "\u001b[0;31mValueError\u001b[0m                                Traceback (most recent call last)",
      "\u001b[0;32m<ipython-input-112-64e7fecbb949>\u001b[0m in \u001b[0;36m<module>\u001b[0;34m\u001b[0m\n\u001b[1;32m      1\u001b[0m \u001b[0mmat553\u001b[0m \u001b[0;34m=\u001b[0m \u001b[0mnp\u001b[0m\u001b[0;34m.\u001b[0m\u001b[0mrandom\u001b[0m\u001b[0;34m.\u001b[0m\u001b[0mrandint\u001b[0m\u001b[0;34m(\u001b[0m\u001b[0;36m10\u001b[0m\u001b[0;34m,\u001b[0m \u001b[0msize\u001b[0m\u001b[0;34m=\u001b[0m\u001b[0;34m(\u001b[0m\u001b[0;36m5\u001b[0m\u001b[0;34m,\u001b[0m \u001b[0;36m5\u001b[0m\u001b[0;34m,\u001b[0m \u001b[0;36m3\u001b[0m\u001b[0;34m)\u001b[0m\u001b[0;34m)\u001b[0m\u001b[0;34m\u001b[0m\u001b[0;34m\u001b[0m\u001b[0m\n\u001b[1;32m      2\u001b[0m \u001b[0mmat55\u001b[0m \u001b[0;34m=\u001b[0m \u001b[0mnp\u001b[0m\u001b[0;34m.\u001b[0m\u001b[0mrandom\u001b[0m\u001b[0;34m.\u001b[0m\u001b[0mrandint\u001b[0m\u001b[0;34m(\u001b[0m\u001b[0;36m10\u001b[0m\u001b[0;34m,\u001b[0m \u001b[0msize\u001b[0m\u001b[0;34m=\u001b[0m\u001b[0;34m(\u001b[0m\u001b[0;36m5\u001b[0m\u001b[0;34m,\u001b[0m \u001b[0;36m5\u001b[0m\u001b[0;34m)\u001b[0m\u001b[0;34m)\u001b[0m\u001b[0;34m\u001b[0m\u001b[0;34m\u001b[0m\u001b[0m\n\u001b[0;32m----> 3\u001b[0;31m \u001b[0mnp\u001b[0m\u001b[0;34m.\u001b[0m\u001b[0mmatmul\u001b[0m\u001b[0;34m(\u001b[0m\u001b[0mmat553\u001b[0m\u001b[0;34m,\u001b[0m \u001b[0mmat55\u001b[0m\u001b[0;34m)\u001b[0m\u001b[0;34m\u001b[0m\u001b[0;34m\u001b[0m\u001b[0m\n\u001b[0m",
      "\u001b[0;31mValueError\u001b[0m: matmul: Input operand 1 has a mismatch in its core dimension 0, with gufunc signature (n?,k),(k,m?)->(n?,m?) (size 5 is different from 3)"
     ]
    }
   ],
   "source": [
    "mat553 = np.random.randint(10, size=(5, 5, 3))\n",
    "mat55 = np.random.randint(10, size=(5, 5))\n",
    "np.matmul(mat553, mat55)"
   ]
  },
  {
   "cell_type": "code",
   "execution_count": null,
   "id": "historical-bradley",
   "metadata": {},
   "outputs": [],
   "source": []
  }
 ],
 "metadata": {
  "kernelspec": {
   "display_name": "Python 3",
   "language": "python",
   "name": "python3"
  },
  "language_info": {
   "codemirror_mode": {
    "name": "ipython",
    "version": 3
   },
   "file_extension": ".py",
   "mimetype": "text/x-python",
   "name": "python",
   "nbconvert_exporter": "python",
   "pygments_lexer": "ipython3",
   "version": "3.6.9"
  }
 },
 "nbformat": 4,
 "nbformat_minor": 5
}
