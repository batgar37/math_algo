{
 "cells": [
  {
   "cell_type": "markdown",
   "id": "occasional-background",
   "metadata": {},
   "source": [
    "# Exercice POO"
   ]
  },
  {
   "cell_type": "markdown",
   "id": "computational-sector",
   "metadata": {},
   "source": [
    "### Le compte bancaire"
   ]
  },
  {
   "cell_type": "code",
   "execution_count": 2,
   "id": "universal-michael",
   "metadata": {},
   "outputs": [],
   "source": [
    "class CompteBancaire:\n",
    "    def __init__(self, name=\"Dupont\", solde=1000):\n",
    "        self.name = name\n",
    "        self.solde = solde\n",
    "    \n",
    "    def depot(self, somme):\n",
    "        self.solde += somme\n",
    "    \n",
    "    def retrait(self, somme):\n",
    "        self.solde -= somme\n",
    "    \n",
    "    def affiche(self):\n",
    "        print(\"Le solde du compte bancaire de \"+self.name+\" est de \"+str(self.solde)+\" euros.\")\n",
    "        "
   ]
  },
  {
   "cell_type": "code",
   "execution_count": 3,
   "id": "manual-mainstream",
   "metadata": {},
   "outputs": [
    {
     "name": "stdout",
     "output_type": "stream",
     "text": [
      "Le solde du compte bancaire de Duchmol est de 950 euros.\n"
     ]
    }
   ],
   "source": [
    "compte1 = CompteBancaire('Duchmol', 800)\n",
    "compte1.depot(350)\n",
    "compte1.retrait(200)\n",
    "compte1.affiche()"
   ]
  },
  {
   "cell_type": "code",
   "execution_count": 4,
   "id": "foster-dublin",
   "metadata": {},
   "outputs": [
    {
     "name": "stdout",
     "output_type": "stream",
     "text": [
      "Le solde du compte bancaire de Dupont est de 1025 euros.\n"
     ]
    }
   ],
   "source": [
    "compte2 = CompteBancaire()\n",
    "compte2.depot(25)\n",
    "compte2.affiche()"
   ]
  },
  {
   "cell_type": "markdown",
   "id": "relevant-produce",
   "metadata": {},
   "source": [
    "### La surcharge d'opérateur"
   ]
  },
  {
   "cell_type": "code",
   "execution_count": 5,
   "id": "informal-garage",
   "metadata": {},
   "outputs": [],
   "source": [
    "class Point:\n",
    "    def __init__(self, x, y, z = None):\n",
    "        self.x = x\n",
    "        self.y = y\n",
    "        self.z = z\n",
    "    \n",
    "    def ToString(self):\n",
    "        if( self.z != None ):\n",
    "            return \"P(\"+ str(self.x)+ ', ' + str(self.y) + ', ' + str(self.z) +\")\"\n",
    "        return \"P(\"+ str(self.x)+ ', ' + str(self.y) +\")\""
   ]
  },
  {
   "cell_type": "code",
   "execution_count": 6,
   "id": "julian-latino",
   "metadata": {},
   "outputs": [
    {
     "data": {
      "text/plain": [
       "'P(2, 3)'"
      ]
     },
     "execution_count": 6,
     "metadata": {},
     "output_type": "execute_result"
    }
   ],
   "source": [
    "P1=Point(2,3)\n",
    "P1.ToString()"
   ]
  },
  {
   "cell_type": "code",
   "execution_count": 7,
   "id": "physical-harvest",
   "metadata": {},
   "outputs": [
    {
     "data": {
      "text/plain": [
       "'P(1, -5, 6)'"
      ]
     },
     "execution_count": 7,
     "metadata": {},
     "output_type": "execute_result"
    }
   ],
   "source": [
    "P2=Point(1,-5,6)\n",
    "P2.ToString()"
   ]
  },
  {
   "cell_type": "markdown",
   "id": "contrary-continent",
   "metadata": {},
   "source": [
    "### L'héritage simple"
   ]
  },
  {
   "cell_type": "code",
   "execution_count": 8,
   "id": "beginning-legend",
   "metadata": {},
   "outputs": [],
   "source": [
    "class DateNaissance:\n",
    "    def __init__(self, jour, mois, annee):\n",
    "        self.jour = jour\n",
    "        self.mois = mois\n",
    "        self.annee = annee\n",
    "    \n",
    "    def __str__(self):\n",
    "        if(self.jour > 9 and self.mois > 9):\n",
    "            return \"Date de naissance : \"+ str(self.jour) + \" / \" + str(self.mois) + \" / \"+ str(self.annee)\n",
    "        elif(self.jour > 9):\n",
    "            return \"Date de naissance : \"+ str(self.jour) + \" / 0\" + str(self.mois) + \" / \"+ str(self.annee)\n",
    "        elif(self.mois > 9):\n",
    "            return \"Date de naissance : 0\"+ str(self.jour) + \" / \" + str(self.mois) + \" / \"+ str(self.annee)\n",
    "        return \"Date de naissance : 0\"+ str(self.jour) + \" / 0\" + str(self.mois) + \" / \"+ str(self.annee)\n",
    "        "
   ]
  },
  {
   "cell_type": "code",
   "execution_count": 9,
   "id": "encouraging-disability",
   "metadata": {},
   "outputs": [
    {
     "name": "stdout",
     "output_type": "stream",
     "text": [
      "Date de naissance : 09 / 06 / 1999\n"
     ]
    }
   ],
   "source": [
    "dateTest = DateNaissance(9,6,1999)\n",
    "print(dateTest)"
   ]
  },
  {
   "cell_type": "code",
   "execution_count": 10,
   "id": "assigned-beverage",
   "metadata": {},
   "outputs": [],
   "source": [
    "class Personne:\n",
    "    def __init__(self, nom, prenom, date):\n",
    "        self.nom = nom\n",
    "        self.prenom = prenom\n",
    "        self.date = date\n",
    "        \n",
    "    def __str__(self):\n",
    "        print(\"Nom : \", self.nom)\n",
    "        print(\"Prenom : \", self.prenom)\n",
    "        print(self.date)\n",
    "        return \"\"\n",
    "    \n",
    "    def afficher(personne):\n",
    "        print(personne)"
   ]
  },
  {
   "cell_type": "code",
   "execution_count": 11,
   "id": "desperate-watershed",
   "metadata": {},
   "outputs": [
    {
     "name": "stdout",
     "output_type": "stream",
     "text": [
      "Nom :  Ilyass\n",
      "Prenom :  Math\n",
      "Date de naissance : 01 / 07 / 1982\n",
      "\n"
     ]
    }
   ],
   "source": [
    "P=Personne('Ilyass','Math',DateNaissance(1,7,1982))\n",
    "P.afficher()"
   ]
  },
  {
   "cell_type": "code",
   "execution_count": 19,
   "id": "diverse-philadelphia",
   "metadata": {},
   "outputs": [],
   "source": [
    "class Employe(Personne):\n",
    "    def __init__(self, nom, prenom, date, salaire):\n",
    "        super().__init__(nom, prenom, date)\n",
    "        self.salaire = salaire\n",
    "        \n",
    "    def __str__(self):\n",
    "        print(\"Nom : \", self.nom)\n",
    "        print(\"Prenom : \", self.prenom)\n",
    "        print(self.date)\n",
    "        print(\"Salaire : \", self.salaire)\n",
    "        return \"\""
   ]
  },
  {
   "cell_type": "code",
   "execution_count": 20,
   "id": "pharmaceutical-respondent",
   "metadata": {},
   "outputs": [
    {
     "name": "stdout",
     "output_type": "stream",
     "text": [
      "Nom :  Ilyass\n",
      "Prenom :  Math\n",
      "Date de naissance : 01 / 07 / 1985\n",
      "Salaire :  7865.548\n",
      "\n"
     ]
    }
   ],
   "source": [
    "E=Employe(\"Ilyass\",\"Math\",DateNaissance(1,7,1985),7865.548)\n",
    "E.afficher()"
   ]
  },
  {
   "cell_type": "code",
   "execution_count": 21,
   "id": "published-egypt",
   "metadata": {},
   "outputs": [],
   "source": [
    "class Chef(Employe):\n",
    "    def __init__(self, nom, prenom, date, salaire, service):\n",
    "        super().__init__(nom, prenom, date, salaire)\n",
    "        self.service = service\n",
    "        \n",
    "    def __str__(self):\n",
    "        print(\"Nom : \", self.nom)\n",
    "        print(\"Prenom : \", self.prenom)\n",
    "        print(self.date)\n",
    "        print(\"Salaire : \", self.salaire)\n",
    "        print(\"Service : \", self.service)\n",
    "        return \"\""
   ]
  },
  {
   "cell_type": "code",
   "execution_count": 22,
   "id": "embedded-member",
   "metadata": {},
   "outputs": [
    {
     "name": "stdout",
     "output_type": "stream",
     "text": [
      "Nom :  Ilyass\n",
      "Prenom :  Math\n",
      "Date de naissance : 01 / 07 / 1988\n",
      "Salaire :  7865.548\n",
      "Service :  Ressource humaine\n",
      "\n"
     ]
    }
   ],
   "source": [
    "Ch=Chef(\"Ilyass\",\"Math\",DateNaissance(1,7,1988),7865.548,\"Ressource humaine\")\n",
    "Ch.afficher()"
   ]
  },
  {
   "cell_type": "markdown",
   "id": "cubic-engineer",
   "metadata": {},
   "source": [
    "### Le polymorphisme"
   ]
  },
  {
   "cell_type": "code",
   "execution_count": null,
   "id": "legendary-picnic",
   "metadata": {},
   "outputs": [],
   "source": []
  }
 ],
 "metadata": {
  "kernelspec": {
   "display_name": "Python 3",
   "language": "python",
   "name": "python3"
  },
  "language_info": {
   "codemirror_mode": {
    "name": "ipython",
    "version": 3
   },
   "file_extension": ".py",
   "mimetype": "text/x-python",
   "name": "python",
   "nbconvert_exporter": "python",
   "pygments_lexer": "ipython3",
   "version": "3.6.9"
  }
 },
 "nbformat": 4,
 "nbformat_minor": 5
}
