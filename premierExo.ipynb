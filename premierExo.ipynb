{
 "cells": [
  {
   "cell_type": "markdown",
   "id": "outside-drawing",
   "metadata": {},
   "source": [
    "# 1   Base"
   ]
  },
  {
   "cell_type": "markdown",
   "id": "experienced-balloon",
   "metadata": {},
   "source": [
    "## Simple echange"
   ]
  },
  {
   "cell_type": "code",
   "execution_count": 17,
   "id": "polish-implementation",
   "metadata": {},
   "outputs": [
    {
     "name": "stdout",
     "output_type": "stream",
     "text": [
      "8\n",
      "1\n"
     ]
    }
   ],
   "source": [
    "a = 1\n",
    "b = 8\n",
    "a,b = b,a\n",
    "print(a)\n",
    "print(b)"
   ]
  },
  {
   "cell_type": "markdown",
   "id": "prime-muslim",
   "metadata": {},
   "source": [
    "## Le carre"
   ]
  },
  {
   "cell_type": "code",
   "execution_count": 14,
   "id": "metropolitan-receptor",
   "metadata": {},
   "outputs": [
    {
     "name": "stdin",
     "output_type": "stream",
     "text": [
      " 5\n"
     ]
    },
    {
     "data": {
      "text/plain": [
       "25"
      ]
     },
     "execution_count": 14,
     "metadata": {},
     "output_type": "execute_result"
    }
   ],
   "source": [
    "var = int(input())\n",
    "var*var"
   ]
  },
  {
   "cell_type": "markdown",
   "id": "breathing-length",
   "metadata": {},
   "source": [
    "## La condition"
   ]
  },
  {
   "cell_type": "code",
   "execution_count": 15,
   "id": "instrumental-sierra",
   "metadata": {},
   "outputs": [
    {
     "name": "stdin",
     "output_type": "stream",
     "text": [
      " 3\n"
     ]
    },
    {
     "name": "stdout",
     "output_type": "stream",
     "text": [
      "positif\n"
     ]
    }
   ],
   "source": [
    "var = int(input())\n",
    "if(var > 0):\n",
    "    print('positif')\n",
    "else:\n",
    "    print('negatif')"
   ]
  },
  {
   "cell_type": "markdown",
   "id": "exempt-glucose",
   "metadata": {},
   "source": [
    "## Le produit"
   ]
  },
  {
   "cell_type": "code",
   "execution_count": 32,
   "id": "ready-attempt",
   "metadata": {},
   "outputs": [
    {
     "name": "stdin",
     "output_type": "stream",
     "text": [
      " 5\n",
      " -1\n"
     ]
    },
    {
     "name": "stdout",
     "output_type": "stream",
     "text": [
      "negatif\n"
     ]
    }
   ],
   "source": [
    "nb1:int = int(input())\n",
    "nb2:int = int(input())\n",
    "if( nb1 < 0 or nb2 < 0 ):\n",
    "    print(\"negatif\")\n",
    "else:\n",
    "    print(\"positif\")"
   ]
  },
  {
   "cell_type": "markdown",
   "id": "complicated-africa",
   "metadata": {},
   "source": [
    "## Calcul"
   ]
  },
  {
   "cell_type": "code",
   "execution_count": 26,
   "id": "caring-playing",
   "metadata": {},
   "outputs": [
    {
     "name": "stdin",
     "output_type": "stream",
     "text": [
      " 4\n"
     ]
    },
    {
     "name": "stdout",
     "output_type": "stream",
     "text": [
      "5\n",
      "6\n",
      "7\n",
      "8\n",
      "9\n",
      "10\n",
      "11\n",
      "12\n",
      "13\n",
      "14\n"
     ]
    }
   ],
   "source": [
    "nb = int(input())\n",
    "for i in range(10):\n",
    "    nb += 1\n",
    "    print(nb)"
   ]
  },
  {
   "cell_type": "markdown",
   "id": "incoming-birthday",
   "metadata": {},
   "source": [
    "## Additivité"
   ]
  },
  {
   "cell_type": "code",
   "execution_count": 27,
   "id": "exterior-archive",
   "metadata": {},
   "outputs": [],
   "source": [
    "def additivite(n:int) -> int:\n",
    "    if(n != 0):\n",
    "        return n + additivite( n-1 )\n",
    "    else:\n",
    "        return 0"
   ]
  },
  {
   "cell_type": "code",
   "execution_count": 31,
   "id": "refined-magic",
   "metadata": {},
   "outputs": [
    {
     "data": {
      "text/plain": [
       "6"
      ]
     },
     "execution_count": 31,
     "metadata": {},
     "output_type": "execute_result"
    }
   ],
   "source": [
    "additivite(3)"
   ]
  },
  {
   "cell_type": "markdown",
   "id": "complete-solomon",
   "metadata": {},
   "source": [
    "# Les tableaux"
   ]
  },
  {
   "cell_type": "markdown",
   "id": "inclusive-uniform",
   "metadata": {},
   "source": [
    "## La somme"
   ]
  },
  {
   "cell_type": "code",
   "execution_count": 35,
   "id": "tested-agreement",
   "metadata": {},
   "outputs": [
    {
     "name": "stdout",
     "output_type": "stream",
     "text": [
      "8\n"
     ]
    }
   ],
   "source": [
    "t = [1,2,5]\n",
    "somme = 0\n",
    "for item in t:\n",
    "    somme += item\n",
    "print(somme)"
   ]
  },
  {
   "cell_type": "markdown",
   "id": "collective-harris",
   "metadata": {},
   "source": [
    "## La somme : retour"
   ]
  },
  {
   "cell_type": "code",
   "execution_count": 38,
   "id": "directed-courage",
   "metadata": {},
   "outputs": [
    {
     "name": "stdout",
     "output_type": "stream",
     "text": [
      "[6, 8, 10]\n"
     ]
    }
   ],
   "source": [
    "t1 = [1,2,3]\n",
    "t2 = [5,6,7]\n",
    "t3 = [ t1[j] + t2[j] for j in range(len(t1))]\n",
    "print(t3)\n"
   ]
  },
  {
   "cell_type": "markdown",
   "id": "severe-intelligence",
   "metadata": {},
   "source": [
    "## FacProduct"
   ]
  },
  {
   "cell_type": "code",
   "execution_count": 47,
   "id": "worthy-swedish",
   "metadata": {},
   "outputs": [
    {
     "data": {
      "text/plain": [
       "38"
      ]
     },
     "execution_count": 47,
     "metadata": {},
     "output_type": "execute_result"
    }
   ],
   "source": [
    "t1 = [1,2,3]\n",
    "t2 = [5,6,7]\n",
    "somme = 0\n",
    "for j in range(len(t1)):\n",
    "    somme += t1[j] * t2[j]\n",
    "somme\n"
   ]
  },
  {
   "cell_type": "markdown",
   "id": "exceptional-thing",
   "metadata": {},
   "source": [
    "## Le plus grand"
   ]
  },
  {
   "cell_type": "code",
   "execution_count": 1,
   "id": "studied-rochester",
   "metadata": {},
   "outputs": [
    {
     "data": {
      "text/plain": [
       "(8, 4)"
      ]
     },
     "execution_count": 1,
     "metadata": {},
     "output_type": "execute_result"
    }
   ],
   "source": [
    "items = [-1,2,5,3,8,4,1]\n",
    "for j in range(len(items)):\n",
    "    if j == 0:\n",
    "        res = items[j]\n",
    "    else:\n",
    "        if (items[j] > res):\n",
    "            res = items[j]\n",
    "            item = j\n",
    "(res, item)"
   ]
  },
  {
   "cell_type": "code",
   "execution_count": null,
   "id": "advisory-collect",
   "metadata": {},
   "outputs": [],
   "source": []
  }
 ],
 "metadata": {
  "kernelspec": {
   "display_name": "Python 3",
   "language": "python",
   "name": "python3"
  },
  "language_info": {
   "codemirror_mode": {
    "name": "ipython",
    "version": 3
   },
   "file_extension": ".py",
   "mimetype": "text/x-python",
   "name": "python",
   "nbconvert_exporter": "python",
   "pygments_lexer": "ipython3",
   "version": "3.6.9"
  },
  "toc-autonumbering": true,
  "toc-showtags": false
 },
 "nbformat": 4,
 "nbformat_minor": 5
}
